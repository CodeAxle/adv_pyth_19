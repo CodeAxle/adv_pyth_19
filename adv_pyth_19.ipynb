{
 "cells": [
  {
   "cell_type": "markdown",
   "id": "2a8592de",
   "metadata": {},
   "source": [
    "# 1."
   ]
  },
  {
   "cell_type": "code",
   "execution_count": 1,
   "id": "346fa760",
   "metadata": {},
   "outputs": [],
   "source": [
    "# The relationship between a class and its instances in object-oriented programming can be described as a one-to-many \n",
    "# partnership, often referred to as a one-to-many relationship.\n",
    "\n",
    "# One-to-Many Relationship: In this context, the \"one\" refers to the class itself, and the \"many\" refers to the instances\n",
    "# (objects) created from that class. A class serves as a blueprint or template for creating multiple instances, each with its\n",
    "# own unique state and behavior. Instances share the same structure and behavior defined by the class but can have different \n",
    "# attribute values.\n",
    "\n",
    "# Here's a breakdown of the one-to-many relationship:\n",
    "\n",
    "# a) Class (One): The class is a blueprint or template that defines the properties (attributes) and behaviors (methods) that \n",
    "#     its instances will have. It encapsulates common characteristics shared by all instances.\n",
    "    \n",
    "# b) Instances (Many): Instances are individual objects created from the class. Each instance is a unique entity with its own\n",
    "#     set of attribute values but follows the structure and behavior defined by the class. Multiple instances can exist \n",
    "#     simultaneously based on the class definition"
   ]
  },
  {
   "cell_type": "markdown",
   "id": "66227f50",
   "metadata": {},
   "source": [
    "# 2."
   ]
  },
  {
   "cell_type": "code",
   "execution_count": 2,
   "id": "12f59985",
   "metadata": {},
   "outputs": [
    {
     "name": "stdout",
     "output_type": "stream",
     "text": [
      "Toyota Camry\n",
      "2021\n",
      "Model: Toyota Camry, Color: Blue, Year: 2020\n",
      "Model: Honda Accord, Color: Red, Year: 2021\n"
     ]
    }
   ],
   "source": [
    "# Data held only in an instance in object-oriented programming typically refers to instance variables or attributes. These are\n",
    "# data properties that belong to a specific instance of a class. \n",
    "\n",
    "# Here are some characteristics of instance data:\n",
    "\n",
    "# a) Instance Variables: These are variables that are unique to each instance of a class. They store specific data values that\n",
    "#     are relevant to that instance. For example, if you have a Car class, each car object (instance) may have instance variables\n",
    "#     such as model, color, year, etc.\n",
    "\n",
    "# b) Instance Attributes: These are attributes or properties associated with an instance of a class. They describe the state or \n",
    "#     characteristics of the instance. Instance attributes can be accessed and modified directly for each object.\n",
    "\n",
    "# c) Encapsulation: Instance data is often encapsulated within the instance, meaning it is accessible and modifiable from \n",
    "#     within the class methods or by using object references. Other instances of the same class do not have direct access \n",
    "#     to the instance data of another instance.\n",
    "\n",
    "# d) Instance-specific Behavior: Instance data influences the behavior of each instance. Methods within the class can use \n",
    "#     instance data to perform operations or calculations specific to that instance.\n",
    "\n",
    "# example:\n",
    "class Car:\n",
    "    def __init__(self, model, color, year):\n",
    "        self.model = model  # Instance variable\n",
    "        self.color = color  # Instance variable\n",
    "        self.year = year    # Instance variable\n",
    "\n",
    "    def display_info(self):\n",
    "        print(f\"Model: {self.model}, Color: {self.color}, Year: {self.year}\")\n",
    "\n",
    "# Creating instances of the Car class\n",
    "car1 = Car(\"Toyota Camry\", \"Blue\", 2020)\n",
    "car2 = Car(\"Honda Accord\", \"Red\", 2021)\n",
    "\n",
    "# Accessing instance data\n",
    "print(car1.model)  \n",
    "print(car2.year)\n",
    "\n",
    "# Calling instance method to display info\n",
    "car1.display_info()  \n",
    "car2.display_info() "
   ]
  },
  {
   "cell_type": "markdown",
   "id": "7802af10",
   "metadata": {},
   "source": [
    "# 3."
   ]
  },
  {
   "cell_type": "code",
   "execution_count": 3,
   "id": "5b01a705",
   "metadata": {},
   "outputs": [],
   "source": [
    "# A class in object-oriented programming serves as a blueprint for creating objects (instances).\n",
    "\n",
    "# It encapsulates the following types of knowledge:\n",
    "\n",
    "# a) Attributes and Properties: A class defines the attributes or properties that characterize its objects. These attributes can\n",
    "#     represent the state or characteristics of the objects. For example, a Person class may have attributes like name, age, \n",
    "#     gender, etc.\n",
    "\n",
    "# b) Methods or Functions: Classes contain methods, which are functions defined within the class. These methods define the \n",
    "#     behavior or actions that objects of the class can perform. For instance, a Car class may have methods like start_engine,\n",
    "#     accelerate, brake, etc.\n",
    "\n",
    "# c) Constructor and Initialization: Classes often have a special method called a constructor (__init__ in Python) that \n",
    "#     initializes new objects when they are created. This method sets the initial values of object attributes.\n",
    "\n",
    "# d) Encapsulation: Classes provide encapsulation by bundling data (attributes) and behavior (methods) together. This helps in \n",
    "#     organizing and managing complex systems by hiding implementation details and exposing only the necessary interfaces.\n",
    "\n",
    "# e) Inheritance and Polymorphism: Classes can participate in inheritance hierarchies, where a subclass inherits attributes and\n",
    "#     methods from a superclass. This allows for code reuse and the creation of specialized subclasses. Polymorphism enables \n",
    "#     objects to take multiple forms, allowing different classes to be used interchangeably in code.\n",
    "\n",
    "# f) Static and Class Methods: Apart from instance methods, classes can have static methods (related to the class but not tied \n",
    "#     to any specific instance) and class methods (operating on the class itself rather than its instances)."
   ]
  },
  {
   "cell_type": "markdown",
   "id": "f68e3f6a",
   "metadata": {},
   "source": [
    "# 4."
   ]
  },
  {
   "cell_type": "code",
   "execution_count": 4,
   "id": "70f154d8",
   "metadata": {},
   "outputs": [
    {
     "name": "stdout",
     "output_type": "stream",
     "text": [
      "Hello, Alice!\n"
     ]
    }
   ],
   "source": [
    "# Both methods and functions are reusable blocks of code that perform specific tasks in Python. \n",
    "\n",
    "# Distinction between fuction and method:\n",
    "\n",
    "# a) Functions:\n",
    "\n",
    "# 1. Independent: Functions are standalone entities that can be defined outside of a class. They operate on the data provided\n",
    "#     to them as arguments and can optionally return a value.\n",
    "# 2. Global Scope: Functions defined outside of any class have global scope, meaning they can be accessed from anywhere in\n",
    "#     your program.\n",
    "    \n",
    "# example:\n",
    "def greet(name):\n",
    "    print(f\"Hello, {name}!\")\n",
    "\n",
    "greet(\"Alice\")  "
   ]
  },
  {
   "cell_type": "code",
   "execution_count": 5,
   "id": "1a96725c",
   "metadata": {},
   "outputs": [
    {
     "name": "stdout",
     "output_type": "stream",
     "text": [
      "The red Honda Civic is accelerating!\n"
     ]
    }
   ],
   "source": [
    "# b) Methods:\n",
    "\n",
    "# 1. Class-bound: Methods are defined inside a class. They are associated with a particular class and operate on its instances \n",
    "#     (objects). Methods typically take the instance (object) as the first argument (often referred to as self by convention).\n",
    "# 2. Object Scope: Methods are accessed through instances of the class. They can access the attributes of the object they're \n",
    "#     called on, allowing them to operate on the object's specific data.\n",
    "    \n",
    "# example:\n",
    "class Car:\n",
    "    def __init__(self, model, color, year):\n",
    "        self.model = model  # Assigning values to object attributes\n",
    "        self.color = color\n",
    "        self.year = year\n",
    "\n",
    "    def accelerate(self):\n",
    "        print(f\"The {self.color} {self.model} is accelerating!\")\n",
    "\n",
    "my_car = Car(\"Honda Civic\", \"red\", 2020)\n",
    "my_car.accelerate()  # Calling the method on the object instance"
   ]
  },
  {
   "cell_type": "markdown",
   "id": "6f945c6a",
   "metadata": {},
   "source": [
    "# 5."
   ]
  },
  {
   "cell_type": "code",
   "execution_count": 6,
   "id": "2ed97c5f",
   "metadata": {},
   "outputs": [
    {
     "name": "stdout",
     "output_type": "stream",
     "text": [
      "Woof!\n"
     ]
    }
   ],
   "source": [
    "# Yes, inheritance is fully supported in Python. It's a fundamental concept in object-oriented programming that allows you \n",
    "# to create new classes (subclasses) that inherit properties and functionalities from existing classes (parent classes).\n",
    "\n",
    "# example:\n",
    "class Animal:\n",
    "    def __init__(self, name):\n",
    "        self.name = name\n",
    "\n",
    "    def make_sound(self):\n",
    "        print(\"Generic animal sound\")\n",
    "\n",
    "class Dog(Animal):\n",
    "    def make_sound(self):\n",
    "        print(\"Woof!\")\n",
    "\n",
    "my_dog = Dog(\"Fido\")\n",
    "my_dog.make_sound()  "
   ]
  },
  {
   "cell_type": "markdown",
   "id": "0f061942",
   "metadata": {},
   "source": [
    "# 6."
   ]
  },
  {
   "cell_type": "code",
   "execution_count": 7,
   "id": "96af192b",
   "metadata": {},
   "outputs": [
    {
     "name": "stdout",
     "output_type": "stream",
     "text": [
      "This is private\n"
     ]
    }
   ],
   "source": [
    "# Python relies on conventions and docstrings to enforce encapsulation, rather than having strictly enforced keywords like \n",
    "# private or public  found in some other languages.\n",
    "\n",
    "# Here's a breakdown of how encapsulation is achieved in Python:\n",
    "\n",
    "# a) Public vs. Private Members: There are no built-in keywords to declare class members as strictly public or private.\n",
    "#     However, by following the convention of prefixing member names with a single underscore (_), you indicate that the member\n",
    "#     is intended to be private and should not be directly accessed from outside the class.\n",
    "    \n",
    "# example:\n",
    "class MyClass:\n",
    "    def __init__(self):\n",
    "        self._private_var = \"This is private\"  # Convention for private member\n",
    "\n",
    "    def get_private_var(self):\n",
    "        return self._private_var\n",
    "\n",
    "my_object = MyClass()\n",
    "# print(my_object._private_var)  # Not recommended (avoids encapsulation)\n",
    "print(my_object.get_private_var())  # Preferred way to access private data"
   ]
  },
  {
   "cell_type": "code",
   "execution_count": 8,
   "id": "a196949b",
   "metadata": {},
   "outputs": [],
   "source": [
    "# b) Double Underscore Prefix (__): Members prefixed with a double underscore (__) are considered part of the class's private\n",
    "#     implementation detail. These members are mangled (their names are altered) by Python to avoid naming conflicts when \n",
    "#     subclassing. It's generally recommended to avoid directly accessing these members from outside the class.\n",
    "\n",
    "# c) Docstrings: Docstrings are a good way to document the intended usage of class members, including whether they are meant \n",
    "#     to be private or public. While not enforced by Python, docstrings can improve code readability and understanding of \n",
    "#     intended behavior."
   ]
  },
  {
   "cell_type": "markdown",
   "id": "c0464544",
   "metadata": {},
   "source": [
    "# 7."
   ]
  },
  {
   "cell_type": "code",
   "execution_count": 9,
   "id": "49e2e9c6",
   "metadata": {},
   "outputs": [
    {
     "name": "stdout",
     "output_type": "stream",
     "text": [
      "1\n"
     ]
    }
   ],
   "source": [
    "# In Python, the distinction between class variables and instance variables lies in how they are declared and how they are\n",
    "# shared among objects of a class. \n",
    "\n",
    "# Here's a breakdown of the key differences:\n",
    "\n",
    "# a) Class Variables:\n",
    "\n",
    "# 1. Declaration: Declared inside the class definition but outside of any methods (including the constructor). They are shared \n",
    "#     by all instances of the class.\n",
    "# 2. Modification: Changes made to a class variable through one instance will be reflected for all other instances. This is \n",
    "#     because there's only one copy of the class variable in memory.\n",
    "# 3. Access: Can be accessed directly using the class name or through instances (although accessing through instances is not \n",
    "#     typical).\n",
    "    \n",
    "# example:\n",
    "class Counter:\n",
    "    count = 0  # Class variable (shared by all instances)\n",
    "\n",
    "    def increment(self):\n",
    "        Counter.count += 1  # Modifying the class variable\n",
    "\n",
    "my_counter1 = Counter()\n",
    "my_counter2 = Counter()\n",
    "\n",
    "my_counter1.increment()\n",
    "print(my_counter2.count)  # Output: 1 (count is shared)"
   ]
  },
  {
   "cell_type": "markdown",
   "id": "dc41de9d",
   "metadata": {},
   "source": [
    "# 8."
   ]
  },
  {
   "cell_type": "code",
   "execution_count": 10,
   "id": "cb764418",
   "metadata": {},
   "outputs": [
    {
     "name": "stdout",
     "output_type": "stream",
     "text": [
      "The red Honda Civic is accelerating!\n"
     ]
    }
   ],
   "source": [
    "# The self argument is always included in the definition of a method within a Python class. It's the first argument by convention,\n",
    "# even though you might not explicitly write it out in the parameter list.\n",
    "\n",
    "# Here's why self is essential in methods:\n",
    "\n",
    "# a) Instance-Specific Operations: Methods operate on the data of the object (instance) they are called on. self refers to the\n",
    "#     current object instance, allowing the method to access and modify the object's attributes.  Without self, methods \n",
    "#     wouldn't be able to interact with the specific data of an object.\n",
    "\n",
    "# b) Object-Oriented Design: In object-oriented programming, methods are associated with objects and encapsulate their behavior.\n",
    "#     self is the foundation of this association, enabling methods to work with the object's internal state.\n",
    "    \n",
    "# example:\n",
    "class Car:\n",
    "    def __init__(self, model, color):\n",
    "        self.model = model  # Assigning values to object attributes using self\n",
    "        self.color = color\n",
    "\n",
    "    def accelerate(self):\n",
    "        print(f\"The {self.color} {self.model} is accelerating!\")  # self allows access to object attributes\n",
    "\n",
    "my_car = Car(\"Honda Civic\", \"red\")\n",
    "my_car.accelerate()  # Output: The red Honda Civic is accelerating"
   ]
  },
  {
   "cell_type": "markdown",
   "id": "b5091934",
   "metadata": {},
   "source": [
    "# 9."
   ]
  },
  {
   "cell_type": "code",
   "execution_count": 13,
   "id": "753bd6b8",
   "metadata": {},
   "outputs": [
    {
     "name": "stdout",
     "output_type": "stream",
     "text": [
      "15\n"
     ]
    }
   ],
   "source": [
    "# Here's a breakdown of the key differences:\n",
    "\n",
    "# a) __add__ (left operand):\n",
    "\n",
    "# 1. This method defines the behavior when your class is the left operand in an addition expression\n",
    "#     (e.g., my_object + other_object or my_object + 5).\n",
    "# 2. It takes two arguments: self (the current object instance) and other (the right operand).\n",
    "# 3. It should return the result of the addition operation for your class.\n",
    "\n",
    "# example:\n",
    "class Number:\n",
    "    def __init__(self, value):\n",
    "        self.value = value\n",
    "\n",
    "    def __add__(self, other):\n",
    "        if isinstance(other, Number):\n",
    "            return self.value + other.value\n",
    "        else:\n",
    "            return self.value + other\n",
    "\n",
    "# Creating instances of the Number class\n",
    "num1 = Number(5)\n",
    "num2 = Number(10)\n",
    "\n",
    "# Using __add__ method (num1 is on the left side of + operator)\n",
    "result1 = num1 + num2\n",
    "print(result1)  "
   ]
  },
  {
   "cell_type": "code",
   "execution_count": 14,
   "id": "17f05a8e",
   "metadata": {},
   "outputs": [
    {
     "name": "stdout",
     "output_type": "stream",
     "text": [
      "105\n"
     ]
    }
   ],
   "source": [
    "# b) __radd__ (right operand):\n",
    "\n",
    "# 1. This method defines the behavior when your class is the right operand in an addition expression\n",
    "#     (e.g., other_object + my_object or 5 + my_object).\n",
    "# 2. It's called only if the __add__ method of the left operand returns NotImplemented. This allows your class to define\n",
    "#     a fallback behavior for addition even when it's not the left operand.\n",
    "# 3. It takes two arguments: other (the left operand) and self (the current object instance).\n",
    "# 4. It should return the result of the addition operation when your class is on the right.\n",
    "\n",
    "# example:\n",
    "    \n",
    "class Number:\n",
    "    def __init__(self, value):\n",
    "        self.value = value\n",
    "\n",
    "    def __radd__(self, other):\n",
    "        return self.value + other\n",
    "\n",
    "# Creating instances of the Number class\n",
    "num1 = Number(5)\n",
    "num2 = Number(10)\n",
    "\n",
    "# Using __radd__ method (num1 is on the right side of + operator)\n",
    "result2 = 100 + num1\n",
    "print(result2) "
   ]
  },
  {
   "cell_type": "markdown",
   "id": "bdc8ba9d",
   "metadata": {},
   "source": [
    "# 10."
   ]
  },
  {
   "cell_type": "code",
   "execution_count": 15,
   "id": "ba4fb2ae",
   "metadata": {},
   "outputs": [],
   "source": [
    "# n Python, reflection methods (functions like type(), getattr(), etc.) are generally not the most common or efficient \n",
    "# approach for everyday tasks.\n",
    "\n",
    "# However, they can be useful in specific scenarios when Reflection is Necessary:\n",
    "\n",
    "# a) Dynamically Accessing Attributes: If you need to access an object's attribute whose name is unknown at compile time, \n",
    "#     reflection is necessary. You might use getattr() to retrieve the value based on a string variable holding the attribute name.\n",
    "#     This can be useful for generic code that needs to work with objects of different classes with potentially varying attributes.\n",
    "\n",
    "# b) Metaprogramming: Reflection plays a role in metaprogramming techniques, where you write code that manipulates the structure \n",
    "#     and behavior of other programs at runtime. For example, a custom class builder might use reflection to dynamically define \n",
    "#     attributes and methods based on configuration data.\n",
    "\n",
    "# c) Generic Function/Method Implementations: When writing generic functions or methods that need to work with different data \n",
    "#     types, reflection can help inspect the type of the data and potentially call different methods based on the type. \n",
    "#     However, this can often be achieved more cleanly using techniques like duck typing (focusing on the methods available\n",
    "#     rather than the specific class) or type hints with appropriate checks."
   ]
  },
  {
   "cell_type": "markdown",
   "id": "afbd43f2",
   "metadata": {},
   "source": [
    "# 11."
   ]
  },
  {
   "cell_type": "code",
   "execution_count": 16,
   "id": "3bb9afb5",
   "metadata": {},
   "outputs": [
    {
     "name": "stdout",
     "output_type": "stream",
     "text": [
      "8\n"
     ]
    }
   ],
   "source": [
    "# The __iadd__ method is called the in-place addition method. It's a special method in Python that allows you to \n",
    "# define the behavior of the augmented assignment operator += for custom classes.\n",
    "\n",
    "# example:\n",
    "class Counter:\n",
    "    def __init__(self, start_value):\n",
    "        self.value = start_value\n",
    "\n",
    "    def __iadd__(self, other):\n",
    "        if isinstance(other, int):\n",
    "            self.value += other\n",
    "            return self  # Return the modified self object\n",
    "        else:\n",
    "            return NotImplemented\n",
    "\n",
    "my_counter = Counter(5)\n",
    "my_counter += 3\n",
    "print(my_counter.value)  # Output: 8 (in-place modification)"
   ]
  },
  {
   "cell_type": "markdown",
   "id": "4fb12130",
   "metadata": {},
   "source": [
    "# 12."
   ]
  },
  {
   "cell_type": "code",
   "execution_count": 18,
   "id": "0965f8df",
   "metadata": {},
   "outputs": [
    {
     "name": "stdout",
     "output_type": "stream",
     "text": [
      "Fido Labrador\n"
     ]
    }
   ],
   "source": [
    "# Yes, the __init__ method (constructor) is inherited by subclasses in Python. This allows subclasses to inherit the \n",
    "# initialization behavior from the parent class while potentially adding their own customizations.\n",
    "\n",
    "# There are two main approaches to customize the __init__ method in a subclass:\n",
    "\n",
    "# a) Calling the Parent's __init__ explicitly:\n",
    "\n",
    "# 1. You can explicitly call the parent class's __init__ method using super() within the subclass's __init__ definition. \n",
    "#     This ensures that the parent class's initialization logic is executed first.\n",
    "# 2. Then, you can add your own initialization logic specific to the subclass after the parent's initialization is complete.\n",
    "\n",
    "# example:\n",
    "class Animal:\n",
    "    def __init__(self, name):\n",
    "        self.name = name\n",
    "    \n",
    "class Dog(Animal):\n",
    "    def __init__(self, name, breed):\n",
    "        super().__init__(name)  # Call parent's __init__\n",
    "        self.breed = breed\n",
    "\n",
    "my_dog = Dog(\"Fido\", \"Labrador\")\n",
    "print(my_dog.name, my_dog.breed)  # Output: Fido Labrador"
   ]
  },
  {
   "cell_type": "code",
   "execution_count": 19,
   "id": "ff80469e",
   "metadata": {},
   "outputs": [],
   "source": [
    "# b) Overriding the __init__ method:\n",
    "\n",
    "# You can directly define a new __init__ method in the subclass. This will override the inherited behavior entirely.\n",
    "# However, be cautious as you'll need to ensure you handle any initialization required by the parent class as well.\n",
    "\n",
    "# Here are some things to keep in mind when customizing __init__:\n",
    "\n",
    "# 1. Order of Initialization: When calling super().__init__(), it should be the first line in the subclass's __init__ method \n",
    "#     to ensure proper initialization order.\n",
    "# 2. Required Attributes: If the parent class's __init__ expects certain arguments, you'll need to provide them when calling \n",
    "#     super() in the subclass.\n",
    "# 3. Clarity: Choose the approach (explicit call or override) that best reflects the intended relationship between the classes\n",
    "#     and makes your code easier to understand."
   ]
  },
  {
   "cell_type": "code",
   "execution_count": null,
   "id": "4d31e9f5",
   "metadata": {},
   "outputs": [],
   "source": []
  }
 ],
 "metadata": {
  "kernelspec": {
   "display_name": "Python 3 (ipykernel)",
   "language": "python",
   "name": "python3"
  },
  "language_info": {
   "codemirror_mode": {
    "name": "ipython",
    "version": 3
   },
   "file_extension": ".py",
   "mimetype": "text/x-python",
   "name": "python",
   "nbconvert_exporter": "python",
   "pygments_lexer": "ipython3",
   "version": "3.11.5"
  }
 },
 "nbformat": 4,
 "nbformat_minor": 5
}
